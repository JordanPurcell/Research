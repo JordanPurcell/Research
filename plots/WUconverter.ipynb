{
 "cells": [
  {
   "cell_type": "code",
   "execution_count": 2,
   "metadata": {},
   "outputs": [
    {
     "name": "stdout",
     "output_type": "stream",
     "text": [
      "B(E2) = 57.737791357977976 with error ( 1.6770312842566217 )\n"
     ]
    }
   ],
   "source": [
    "import math\n",
    "# 1 Weisskopf Unit for E2 transitions in nucleus with mass number A converted to e^2*fm^4:\n",
    "A = 90                              # Mass number of nucleus to calculate B(E2) for\n",
    "WU = 0.0594*math.pow(A,4/3)         # Establishes a weisskopf unit for the given nucleus\n",
    "Exp_WU = 2.41                      # Experimental value to be converted into e^2 fm^4\n",
    "WU_error = 0.07                     # Error on experimental Value\n",
    "BE2_error = WU*WU_error\n",
    "print('B(E2) =', Exp_WU*WU,'with error (',BE2_error,')')"
   ]
  },
  {
   "cell_type": "code",
   "execution_count": null,
   "metadata": {},
   "outputs": [],
   "source": []
  }
 ],
 "metadata": {
  "kernelspec": {
   "display_name": "Python 3.9.7 ('base')",
   "language": "python",
   "name": "python3"
  },
  "language_info": {
   "codemirror_mode": {
    "name": "ipython",
    "version": 3
   },
   "file_extension": ".py",
   "mimetype": "text/x-python",
   "name": "python",
   "nbconvert_exporter": "python",
   "pygments_lexer": "ipython3",
   "version": "3.9.7"
  },
  "orig_nbformat": 4,
  "vscode": {
   "interpreter": {
    "hash": "ad2bdc8ecc057115af97d19610ffacc2b4e99fae6737bb82f5d7fb13d2f2c186"
   }
  }
 },
 "nbformat": 4,
 "nbformat_minor": 2
}
