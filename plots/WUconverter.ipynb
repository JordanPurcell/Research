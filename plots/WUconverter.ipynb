{
 "cells": [
  {
   "cell_type": "code",
   "execution_count": 2,
   "metadata": {},
   "outputs": [
    {
     "name": "stdout",
     "output_type": "stream",
     "text": [
      "B(M1) = 0.1330865 with error ( 0.01969 )\n"
     ]
    }
   ],
   "source": [
    "import math\n",
    "\n",
    "# 1 Weisskopf Unit for M1 transitions in nucleus converted to units of mu_N:\n",
    "WU = 1.790                          # Establishes a weisskopf unit for the given nucleus with units mu_N\n",
    "Exp_WU = 0.07435                      # Experimental value to be converted into mu_N\n",
    "WU_error = 0.011                     # Error on experimental Value\n",
    "BM1_error = WU*WU_error\n",
    "print('B(M1) =', Exp_WU*WU,'with error (',BM1_error,')')"
   ]
  },
  {
   "cell_type": "code",
   "execution_count": 3,
   "metadata": {},
   "outputs": [
    {
     "name": "stdout",
     "output_type": "stream",
     "text": [
      "B(E2) = 57.737791357977976 with error ( 1.6770312842566217 )\n"
     ]
    }
   ],
   "source": [
    "# 1 Weisskopf Unit for E2 transitions in nucleus with mass number A converted to e^2*fm^4:\n",
    "A = 90                              # Mass number of nucleus to calculate B(E2) for\n",
    "WU = 0.0594*math.pow(A,4/3)         # Establishes a weisskopf unit for the given nucleus\n",
    "Exp_WU = 2.41                      # Experimental value to be converted into e^2 fm^4\n",
    "WU_error = 0.07                     # Error on experimental Value\n",
    "BE2_error = WU*WU_error\n",
    "print('B(E2) =', Exp_WU*WU,'with error (',BE2_error,')')"
   ]
  },
  {
   "cell_type": "code",
   "execution_count": 6,
   "metadata": {},
   "outputs": [
    {
     "name": "stdout",
     "output_type": "stream",
     "text": [
      "B(E3) = 15.8156064 with error ( 1.6770312842566217 )\n"
     ]
    }
   ],
   "source": [
    "# 1 Weisskopf Unit for E3 transitions in nucleus with mass number A converted to e^2*fm^6:\n",
    "A = 86                              # Mass number of nucleus to calculate B(E3) for\n",
    "WU = 0.0594*math.pow(A,2)         # Establishes a weisskopf unit for the given nucleus\n",
    "Exp_WU = 0.036                      # Experimental value to be converted into e^2 fm^4\n",
    "WU_error = 0.012                     # Error on experimental Value\n",
    "BE3_error = WU*WU_error\n",
    "print('B(E3) =', Exp_WU*WU,'with error (',BE2_error,')')"
   ]
  },
  {
   "cell_type": "code",
   "execution_count": 5,
   "metadata": {},
   "outputs": [
    {
     "data": {
      "text/plain": [
       "0.05940426419916374"
      ]
     },
     "execution_count": 5,
     "metadata": {},
     "output_type": "execute_result"
    }
   ],
   "source": [
    "math.pow(1.2,6)*math.pow(0.5,2)/(4*math.pi)"
   ]
  }
 ],
 "metadata": {
  "kernelspec": {
   "display_name": "base",
   "language": "python",
   "name": "python3"
  },
  "language_info": {
   "codemirror_mode": {
    "name": "ipython",
    "version": 3
   },
   "file_extension": ".py",
   "mimetype": "text/x-python",
   "name": "python",
   "nbconvert_exporter": "python",
   "pygments_lexer": "ipython3",
   "version": "3.12.7"
  },
  "orig_nbformat": 4
 },
 "nbformat": 4,
 "nbformat_minor": 2
}
